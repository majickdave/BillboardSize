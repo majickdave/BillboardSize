{
 "cells": [
  {
   "cell_type": "markdown",
   "metadata": {},
   "source": [
    "# Python Billboard Size\n",
    "\n",
    "By David Samuel\n",
    "\n"
   ]
  },
  {
   "cell_type": "code",
   "execution_count": 98,
   "metadata": {},
   "outputs": [
    {
     "name": "stdout",
     "output_type": "stream",
     "text": [
      "CPU times: user 2 µs, sys: 2 µs, total: 4 µs\n",
      "Wall time: 4.05 µs\n",
      "Case #1: 3\n",
      "Case #2: 10\n",
      "Case #3: 2\n",
      "Case #4: 8\n",
      "Case #5: 7\n"
     ]
    }
   ],
   "source": [
    "def isConfigurationValid(width, height, text, fontSize):\n",
    "    words = text.split()\n",
    "    # current space left on the current line\n",
    "    # you have width amount of pixel to start\n",
    "    # height left to work with\n",
    "    linesLeft = height / fontSize\n",
    "    wordId = 0\n",
    "    \n",
    "    #start looping through available lines = height / fontSize\n",
    "    while linesLeft > 0:\n",
    "        \n",
    "        #reset counters and currentLine ptr\n",
    "        #can be used to create an array for words in line and line id number \n",
    "        #[currentLine, (height / fontSize - linesLeft)]\n",
    "        pixelsLeftOnCurrentLine = width\n",
    "        currentLine = ''\n",
    "\n",
    "        #iterate through the range len(words) and keep a counter i\n",
    "        for i in range(len(words)):\n",
    "        \n",
    "            #if wordId > i continue to last wordId from previous line\n",
    "            if wordId > i:\n",
    "                continue\n",
    "                \n",
    "            #set wordId = i\n",
    "            wordId = i\n",
    "                \n",
    "            #create a wordString from word\n",
    "            wordstring = words[wordId]\n",
    "            #if not first word in line add \" \" before word\n",
    "            if wordId > 0 and pixelsLeftOnCurrentLine < width:\n",
    "                wordstring = ' ' + words[wordId]\n",
    "            \n",
    "            #evaluate if word can fit on a line\n",
    "            if pixelsLeftOnCurrentLine - len(wordstring) * fontSize >= 0:\n",
    "                pixelsLeftOnCurrentLine -= len(wordstring) * fontSize\n",
    "                currentLine += wordstring\n",
    "                \n",
    "                #if word fit and is the last word in line return True\n",
    "                if wordId == len(words)-1:\n",
    "                    return True\n",
    "                \n",
    "            #if word did not fit on line and is less than \n",
    "            #total number of words break and reduce lines left by 1\n",
    "            elif wordId <= len(words):\n",
    "                break\n",
    "\n",
    "        #reduce lines left by 1\n",
    "        linesLeft -= 1\n",
    "        \n",
    "    else:\n",
    "        return False  \n",
    "    # since there are no words left   \n",
    "\n",
    "        \n",
    "%time\n",
    "with open('input.txt', 'r') as f:\n",
    "    # read data as lines of text\n",
    "    read_data = f.readlines()\n",
    "    for j, case in enumerate(read_data[1:]):\n",
    "        \n",
    "        items = case.split()\n",
    "        width = int(items[0])\n",
    "        height = int(items[1])\n",
    "        text = ' '.join(items[2:])\n",
    "        \n",
    "        for i in range(1,1000):\n",
    "            if isConfigurationValid(width,height, text,i) == False:\n",
    "                print \"Case #\" + str(j + 1) + \": \"+ str(i-1)\n",
    "                break "
   ]
  },
  {
   "cell_type": "code",
   "execution_count": null,
   "metadata": {
    "collapsed": true
   },
   "outputs": [],
   "source": []
  }
 ],
 "metadata": {
  "kernelspec": {
   "display_name": "Python 2",
   "language": "python",
   "name": "python2"
  },
  "language_info": {
   "codemirror_mode": {
    "name": "ipython",
    "version": 2
   },
   "file_extension": ".py",
   "mimetype": "text/x-python",
   "name": "python",
   "nbconvert_exporter": "python",
   "pygments_lexer": "ipython2",
   "version": "2.7.13"
  }
 },
 "nbformat": 4,
 "nbformat_minor": 2
}
